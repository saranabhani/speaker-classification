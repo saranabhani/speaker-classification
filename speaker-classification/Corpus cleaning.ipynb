{
 "cells": [
  {
   "cell_type": "code",
   "execution_count": 44,
   "id": "4e7917a5-71e6-4d0f-b84c-062b94a8cf2e",
   "metadata": {},
   "outputs": [],
   "source": [
    "import os\n",
    "import shutil"
   ]
  },
  {
   "cell_type": "code",
   "execution_count": 45,
   "id": "ff2e42cc-ab55-4002-ab92-4c37ca94aca8",
   "metadata": {},
   "outputs": [],
   "source": [
    "def get_speaker_roots_in_data_path(datapath='./ABI-1 Corpus/accents'):\n",
    "    speaker_list = []\n",
    "    accent_subfolders = [f.path for f in os.scandir(datapath) if f.is_dir()]\n",
    "    for accent in accent_subfolders:\n",
    "        for gender in ['female', 'male']:\n",
    "            speaker_folders = os.listdir(os.path.join(accent, gender))\n",
    "            for speaker in speaker_folders:\n",
    "                if not speaker.startswith('.'):\n",
    "                    speaker_list.append(os.path.join(accent, gender, speaker))\n",
    "    return speaker_list"
   ]
  },
  {
   "cell_type": "code",
   "execution_count": 46,
   "id": "1698dd04-801e-452c-9ae5-7ef782f8f06d",
   "metadata": {},
   "outputs": [],
   "source": [
    "def get_wav_files_in_path(datapath):\n",
    "    files = os.listdir(datapath)\n",
    "    files_wav = [os.path.join(datapath, i) for i in files if i.startswith('shortpassage') and i.endswith('.wav')]\n",
    "    return files_wav"
   ]
  },
  {
   "cell_type": "code",
   "execution_count": 47,
   "id": "148ef0d5-5762-4950-a436-4fb58a56cacc",
   "metadata": {},
   "outputs": [
    {
     "data": {
      "text/plain": [
       "285"
      ]
     },
     "execution_count": 47,
     "metadata": {},
     "output_type": "execute_result"
    }
   ],
   "source": [
    "speaker_list = get_speaker_roots_in_data_path()\n",
    "len(speaker_list)"
   ]
  },
  {
   "cell_type": "code",
   "execution_count": 48,
   "id": "bf989368-0b3f-4142-a983-23d285de6d06",
   "metadata": {},
   "outputs": [
    {
     "data": {
      "text/plain": [
       "855"
      ]
     },
     "execution_count": 48,
     "metadata": {},
     "output_type": "execute_result"
    }
   ],
   "source": [
    "wav_files_path = [f for speaker in speaker_list for f in get_wav_files_in_path(speaker)]\n",
    "len(wav_files_path)"
   ]
  },
  {
   "cell_type": "code",
   "execution_count": null,
   "id": "a4c68c09-35c0-4718-ba0e-4a4d01d76c40",
   "metadata": {},
   "outputs": [],
   "source": [
    "new_corpus_path = './dataset'\n",
    "for file in wav_files_path:\n",
    "    speaker_dir = os.path.join(new_corpus_path, file.split('/')[-2])\n",
    "    file_name = file.split('/')[-1]\n",
    "    if os.path.exists(speaker_dir) and len([f for f in os.listdir(speaker_dir) if not f.startswith('.')]) == 3: # if speaker_id is duplicate\n",
    "        speaker_dir = speaker_dir + '_1'  \n",
    "    if not os.path.exists(speaker_dir):\n",
    "        os.mkdir(speaker_dir)\n",
    "    shutil.copyfile(file, os.path.join(speaker_dir, file_name))    "
   ]
  },
  {
   "cell_type": "code",
   "execution_count": null,
   "id": "dbcb1d4a-2958-4ff7-9fc4-bbafb79da825",
   "metadata": {},
   "outputs": [],
   "source": []
  }
 ],
 "metadata": {
  "kernelspec": {
   "display_name": "Python 3 (ipykernel)",
   "language": "python",
   "name": "python3"
  },
  "language_info": {
   "codemirror_mode": {
    "name": "ipython",
    "version": 3
   },
   "file_extension": ".py",
   "mimetype": "text/x-python",
   "name": "python",
   "nbconvert_exporter": "python",
   "pygments_lexer": "ipython3",
   "version": "3.11.5"
  }
 },
 "nbformat": 4,
 "nbformat_minor": 5
}
